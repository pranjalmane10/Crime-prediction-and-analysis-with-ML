{
 "cells": [
  {
   "cell_type": "code",
   "execution_count": 1,
   "metadata": {},
   "outputs": [
    {
     "name": "stdout",
     "output_type": "stream",
     "text": [
      "                 Dates        Category                      Descript  \\\n",
      "0  2015-05-13 23:53:00        WARRANTS                WARRANT ARREST   \n",
      "1  2015-05-13 23:53:00  OTHER OFFENSES      TRAFFIC VIOLATION ARREST   \n",
      "2  2015-05-13 23:33:00  OTHER OFFENSES      TRAFFIC VIOLATION ARREST   \n",
      "3  2015-05-13 23:30:00   LARCENY/THEFT  GRAND THEFT FROM LOCKED AUTO   \n",
      "4  2015-05-13 23:30:00   LARCENY/THEFT  GRAND THEFT FROM LOCKED AUTO   \n",
      "\n",
      "   DayOfWeek PdDistrict      Resolution                    Address  \\\n",
      "0  Wednesday   NORTHERN  ARREST, BOOKED         OAK ST / LAGUNA ST   \n",
      "1  Wednesday   NORTHERN  ARREST, BOOKED         OAK ST / LAGUNA ST   \n",
      "2  Wednesday   NORTHERN  ARREST, BOOKED  VANNESS AV / GREENWICH ST   \n",
      "3  Wednesday   NORTHERN            NONE   1500 Block of LOMBARD ST   \n",
      "4  Wednesday       PARK            NONE  100 Block of BRODERICK ST   \n",
      "\n",
      "            X          Y  \n",
      "0 -122.425892  37.774599  \n",
      "1 -122.425892  37.774599  \n",
      "2 -122.424363  37.800414  \n",
      "3 -122.426995  37.800873  \n",
      "4 -122.438738  37.771541  \n",
      "(878049, 9)\n"
     ]
    }
   ],
   "source": [
    "#Load the important libraries neede\n",
    "import numpy as np # linear algebra\n",
    "import pandas as pd # data processing, CSV file I/O (e.g. pd.read_csv)\n",
    "# Input data files are available in the \"../input/\" directory.\n",
    "\n",
    "train_data = pd.read_csv(\"train.csv\")\n",
    "\n",
    "# Display the first few rows of the data\n",
    "print(train_data.head())\n",
    "\n",
    "# Get the shape of the data just to know how many rows and columns it contains\n",
    "print(train_data.shape)"
   ]
  },
  {
   "cell_type": "code",
   "execution_count": 2,
   "metadata": {},
   "outputs": [
    {
     "name": "stdout",
     "output_type": "stream",
     "text": [
      "['WARRANTS' 'OTHER OFFENSES' 'LARCENY/THEFT' 'VEHICLE THEFT' 'VANDALISM'\n",
      " 'NON-CRIMINAL' 'ROBBERY' 'ASSAULT' 'WEAPON LAWS' 'BURGLARY'\n",
      " 'SUSPICIOUS OCC' 'DRUNKENNESS' 'FORGERY/COUNTERFEITING' 'DRUG/NARCOTIC'\n",
      " 'STOLEN PROPERTY' 'SECONDARY CODES' 'TRESPASS' 'MISSING PERSON' 'FRAUD'\n",
      " 'KIDNAPPING' 'RUNAWAY' 'DRIVING UNDER THE INFLUENCE'\n",
      " 'SEX OFFENSES FORCIBLE' 'PROSTITUTION' 'DISORDERLY CONDUCT' 'ARSON'\n",
      " 'FAMILY OFFENSES' 'LIQUOR LAWS' 'BRIBERY' 'EMBEZZLEMENT' 'SUICIDE'\n",
      " 'LOITERING' 'SEX OFFENSES NON FORCIBLE' 'EXTORTION' 'GAMBLING'\n",
      " 'BAD CHECKS' 'TREA' 'RECOVERED VEHICLE' 'PORNOGRAPHY/OBSCENE MAT']\n"
     ]
    }
   ],
   "source": [
    "#target variable\n",
    "\n",
    "target = train_data[\"Category\"].unique()\n",
    "print(target)\n"
   ]
  },
  {
   "cell_type": "code",
   "execution_count": 3,
   "metadata": {},
   "outputs": [
    {
     "name": "stdout",
     "output_type": "stream",
     "text": [
      "   Id             Dates DayOfWeek PdDistrict                   Address  \\\n",
      "0   0  10-05-2015 23:59    Sunday    BAYVIEW   2000 Block of THOMAS AV   \n",
      "1   1  10-05-2015 23:51    Sunday    BAYVIEW        3RD ST / REVERE AV   \n",
      "2   2  10-05-2015 23:50    Sunday   NORTHERN    2000 Block of GOUGH ST   \n",
      "3   3  10-05-2015 23:45    Sunday  INGLESIDE  4700 Block of MISSION ST   \n",
      "4   4  10-05-2015 23:45    Sunday  INGLESIDE  4700 Block of MISSION ST   \n",
      "\n",
      "            X          Y  \n",
      "0 -122.399588  37.735051  \n",
      "1 -122.391523  37.732432  \n",
      "2 -122.426002  37.792212  \n",
      "3 -122.437394  37.721412  \n",
      "4 -122.437394  37.721412  \n",
      "(884262, 7)\n"
     ]
    }
   ],
   "source": [
    "#Let's read the test data now\n",
    "\n",
    "test_data = pd.read_csv(\"test.csv\")\n",
    "print(test_data.head())\n",
    "print(test_data.shape)"
   ]
  },
  {
   "cell_type": "code",
   "execution_count": 4,
   "metadata": {},
   "outputs": [],
   "source": [
    "data_dict = {}\n",
    "count = 1\n",
    "for data in target:\n",
    "    data_dict[data] = count\n",
    "    count+=1\n",
    "train_data[\"Category\"] = train_data[\"Category\"].replace(data_dict)\n",
    "\n",
    "#Replacing the day of weeks\n",
    "data_week_dict = {\n",
    "    \"Monday\": 1,\n",
    "    \"Tuesday\":2,\n",
    "    \"Wednesday\":3,\n",
    "    \"Thursday\":4,\n",
    "    \"Friday\":5,\n",
    "    \"Saturday\":6,\n",
    "    \"Sunday\":7\n",
    "}\n",
    "train_data[\"DayOfWeek\"] = train_data[\"DayOfWeek\"].replace(data_week_dict)\n",
    "test_data[\"DayOfWeek\"] = test_data[\"DayOfWeek\"].replace(data_week_dict)\n",
    "#District\n",
    "district = train_data[\"PdDistrict\"].unique()\n",
    "data_dict_district = {}\n",
    "count = 1\n",
    "for data in district:\n",
    "    data_dict_district[data] = count\n",
    "    count+=1 \n",
    "train_data[\"PdDistrict\"] = train_data[\"PdDistrict\"].replace(data_dict_district)\n",
    "test_data[\"PdDistrict\"] = test_data[\"PdDistrict\"].replace(data_dict_district)"
   ]
  },
  {
   "cell_type": "code",
   "execution_count": 5,
   "metadata": {},
   "outputs": [
    {
     "data": {
      "text/plain": [
       "{'NORTHERN': 1,\n",
       " 'PARK': 2,\n",
       " 'INGLESIDE': 3,\n",
       " 'BAYVIEW': 4,\n",
       " 'RICHMOND': 5,\n",
       " 'CENTRAL': 6,\n",
       " 'TARAVAL': 7,\n",
       " 'TENDERLOIN': 8,\n",
       " 'MISSION': 9,\n",
       " 'SOUTHERN': 10}"
      ]
     },
     "execution_count": 5,
     "metadata": {},
     "output_type": "execute_result"
    }
   ],
   "source": [
    "data_dict_district"
   ]
  },
  {
   "cell_type": "code",
   "execution_count": 6,
   "metadata": {},
   "outputs": [
    {
     "name": "stdout",
     "output_type": "stream",
     "text": [
      "                 Dates  Category                      Descript  DayOfWeek  \\\n",
      "0  2015-05-13 23:53:00         1                WARRANT ARREST          3   \n",
      "1  2015-05-13 23:53:00         2      TRAFFIC VIOLATION ARREST          3   \n",
      "2  2015-05-13 23:33:00         2      TRAFFIC VIOLATION ARREST          3   \n",
      "3  2015-05-13 23:30:00         3  GRAND THEFT FROM LOCKED AUTO          3   \n",
      "4  2015-05-13 23:30:00         3  GRAND THEFT FROM LOCKED AUTO          3   \n",
      "\n",
      "   PdDistrict      Resolution                    Address           X  \\\n",
      "0           1  ARREST, BOOKED         OAK ST / LAGUNA ST -122.425892   \n",
      "1           1  ARREST, BOOKED         OAK ST / LAGUNA ST -122.425892   \n",
      "2           1  ARREST, BOOKED  VANNESS AV / GREENWICH ST -122.424363   \n",
      "3           1            NONE   1500 Block of LOMBARD ST -122.426995   \n",
      "4           2            NONE  100 Block of BRODERICK ST -122.438738   \n",
      "\n",
      "           Y  \n",
      "0  37.774599  \n",
      "1  37.774599  \n",
      "2  37.800414  \n",
      "3  37.800873  \n",
      "4  37.771541  \n"
     ]
    }
   ],
   "source": [
    "print(train_data.head())"
   ]
  },
  {
   "cell_type": "code",
   "execution_count": 7,
   "metadata": {},
   "outputs": [
    {
     "name": "stdout",
     "output_type": "stream",
     "text": [
      "Index(['Dates', 'Category', 'Descript', 'DayOfWeek', 'PdDistrict',\n",
      "       'Resolution', 'Address', 'X', 'Y'],\n",
      "      dtype='object')\n",
      "Index(['Id', 'Dates', 'DayOfWeek', 'PdDistrict', 'Address', 'X', 'Y'], dtype='object')\n"
     ]
    }
   ],
   "source": [
    "columns_train = train_data.columns\n",
    "print(columns_train)\n",
    "columns_test = test_data.columns\n",
    "print(columns_test)"
   ]
  },
  {
   "cell_type": "code",
   "execution_count": 8,
   "metadata": {},
   "outputs": [
    {
     "name": "stdout",
     "output_type": "stream",
     "text": [
      "Index(['Dates', 'Category', 'Descript', 'DayOfWeek', 'PdDistrict', 'Address',\n",
      "       'X', 'Y'],\n",
      "      dtype='object')\n"
     ]
    }
   ],
   "source": [
    "cols = columns_train.drop(\"Resolution\")\n",
    "print(cols)"
   ]
  },
  {
   "cell_type": "code",
   "execution_count": 9,
   "metadata": {},
   "outputs": [
    {
     "name": "stdout",
     "output_type": "stream",
     "text": [
      "                 Dates  Category                      Descript  DayOfWeek  \\\n",
      "0  2015-05-13 23:53:00         1                WARRANT ARREST          3   \n",
      "1  2015-05-13 23:53:00         2      TRAFFIC VIOLATION ARREST          3   \n",
      "2  2015-05-13 23:33:00         2      TRAFFIC VIOLATION ARREST          3   \n",
      "3  2015-05-13 23:30:00         3  GRAND THEFT FROM LOCKED AUTO          3   \n",
      "4  2015-05-13 23:30:00         3  GRAND THEFT FROM LOCKED AUTO          3   \n",
      "\n",
      "   PdDistrict                    Address           X          Y  \n",
      "0           1         OAK ST / LAGUNA ST -122.425892  37.774599  \n",
      "1           1         OAK ST / LAGUNA ST -122.425892  37.774599  \n",
      "2           1  VANNESS AV / GREENWICH ST -122.424363  37.800414  \n",
      "3           1   1500 Block of LOMBARD ST -122.426995  37.800873  \n",
      "4           2  100 Block of BRODERICK ST -122.438738  37.771541  \n"
     ]
    }
   ],
   "source": [
    "train_data_new = train_data[cols]\n",
    "print(train_data_new.head())"
   ]
  },
  {
   "cell_type": "code",
   "execution_count": 10,
   "metadata": {},
   "outputs": [
    {
     "name": "stdout",
     "output_type": "stream",
     "text": [
      "            Category      DayOfWeek     PdDistrict              X  \\\n",
      "count  878049.000000  878049.000000  878049.000000  878049.000000   \n",
      "mean        7.224975       3.992691       6.037957    -122.422616   \n",
      "std         6.111544       1.972023       3.114945       0.030354   \n",
      "min         1.000000       1.000000       1.000000    -122.513642   \n",
      "25%         3.000000       2.000000       3.000000    -122.432952   \n",
      "50%         5.000000       4.000000       6.000000    -122.416420   \n",
      "75%        10.000000       6.000000       9.000000    -122.406959   \n",
      "max        39.000000       7.000000      10.000000    -120.500000   \n",
      "\n",
      "                   Y  \n",
      "count  878049.000000  \n",
      "mean       37.771020  \n",
      "std         0.456893  \n",
      "min        37.707879  \n",
      "25%        37.752427  \n",
      "50%        37.775421  \n",
      "75%        37.784369  \n",
      "max        90.000000  \n"
     ]
    }
   ],
   "source": [
    "print(train_data_new.describe())"
   ]
  },
  {
   "cell_type": "code",
   "execution_count": 11,
   "metadata": {},
   "outputs": [
    {
     "name": "stdout",
     "output_type": "stream",
     "text": [
      "Category      1.000000\n",
      "DayOfWeek    -0.016263\n",
      "PdDistrict    0.007643\n",
      "X             0.000147\n",
      "Y            -0.005303\n",
      "Name: Category, dtype: float64\n"
     ]
    }
   ],
   "source": [
    "corr = train_data_new.corr()\n",
    "print(corr[\"Category\"])"
   ]
  },
  {
   "cell_type": "code",
   "execution_count": 12,
   "metadata": {},
   "outputs": [
    {
     "name": "stdout",
     "output_type": "stream",
     "text": [
      "Category        1.662607\n",
      "DayOfWeek      -0.005572\n",
      "PdDistrict     -0.232137\n",
      "X              18.685494\n",
      "Y             113.984988\n",
      "dtype: float64\n"
     ]
    }
   ],
   "source": [
    "skew = train_data_new.skew()\n",
    "print(skew)"
   ]
  },
  {
   "cell_type": "code",
   "execution_count": 13,
   "metadata": {},
   "outputs": [],
   "source": [
    "features = [\"DayOfWeek\", \"PdDistrict\",  \"X\", \"Y\"]\n",
    "X_train = train_data[features]\n",
    "y_train = train_data[\"Category\"]\n",
    "X_test = test_data[features]\n",
    "\n",
    "from sklearn.neighbors import KNeighborsClassifier\n",
    "import pickle\n",
    "knn = KNeighborsClassifier(n_neighbors=5)\n",
    "knn.fit(X_train, y_train)\n",
    "predictions = knn.predict(X_test)\n",
    "\n",
    "pickle.dump(knn,open('model.pkl','wb'))\n",
    "model=pickle.load(open('model.pkl','rb'))\n"
   ]
  },
  {
   "cell_type": "code",
   "execution_count": 14,
   "metadata": {},
   "outputs": [
    {
     "name": "stdout",
     "output_type": "stream",
     "text": [
      "8\n",
      "2\n",
      "3\n",
      "2\n",
      "2\n",
      "2\n",
      "6\n",
      "2\n",
      "4\n",
      "4\n",
      "4\n",
      "8\n",
      "8\n",
      "3\n",
      "2\n",
      "2\n",
      "3\n",
      "8\n",
      "2\n",
      "6\n",
      "6\n",
      "1\n",
      "4\n",
      "6\n",
      "2\n",
      "2\n",
      "10\n",
      "3\n",
      "3\n",
      "4\n",
      "4\n",
      "3\n",
      "2\n",
      "3\n",
      "3\n",
      "6\n",
      "2\n",
      "8\n",
      "6\n",
      "3\n",
      "4\n",
      "3\n",
      "8\n",
      "2\n",
      "4\n",
      "3\n",
      "4\n",
      "7\n",
      "3\n",
      "2\n"
     ]
    }
   ],
   "source": [
    "for i in range(50):\n",
    "    print(predictions[i])"
   ]
  },
  {
   "cell_type": "code",
   "execution_count": 41,
   "metadata": {},
   "outputs": [
    {
     "name": "stdout",
     "output_type": "stream",
     "text": [
      "OrderedDict([('ARSON', 26), ('ASSAULT', 8), ('BAD CHECKS', 36), ('BRIBERY', 29), ('BURGLARY', 10), ('DISORDERLY CONDUCT', 25), ('DRIVING UNDER THE INFLUENCE', 22), ('DRUG/NARCOTIC', 14), ('DRUNKENNESS', 12), ('EMBEZZLEMENT', 30), ('EXTORTION', 34), ('FAMILY OFFENSES', 27), ('FORGERY/COUNTERFEITING', 13), ('FRAUD', 19), ('GAMBLING', 35), ('KIDNAPPING', 20), ('LARCENY/THEFT', 3), ('LIQUOR LAWS', 28), ('LOITERING', 32), ('MISSING PERSON', 18), ('NON-CRIMINAL', 6), ('OTHER OFFENSES', 2), ('PORNOGRAPHY/OBSCENE MAT', 39), ('PROSTITUTION', 24), ('RECOVERED VEHICLE', 38), ('ROBBERY', 7), ('RUNAWAY', 21), ('SECONDARY CODES', 16), ('SEX OFFENSES FORCIBLE', 23), ('SEX OFFENSES NON FORCIBLE', 33), ('STOLEN PROPERTY', 15), ('SUICIDE', 31), ('SUSPICIOUS OCC', 11), ('TREA', 37), ('TRESPASS', 17), ('VANDALISM', 5), ('VEHICLE THEFT', 4), ('WARRANTS', 1), ('WEAPON LAWS', 9)])\n"
     ]
    }
   ],
   "source": [
    "from collections import OrderedDict\n",
    "data_dict_new = OrderedDict(sorted(data_dict.items()))\n",
    "print(data_dict_new)"
   ]
  },
  {
   "cell_type": "code",
   "execution_count": 42,
   "metadata": {},
   "outputs": [
    {
     "name": "stdout",
     "output_type": "stream",
     "text": [
      "ARSON : 26\n",
      "ASSAULT : 8\n",
      "BAD CHECKS : 36\n",
      "BRIBERY : 29\n",
      "BURGLARY : 10\n",
      "DISORDERLY CONDUCT : 25\n",
      "DRIVING UNDER THE INFLUENCE : 22\n",
      "DRUG/NARCOTIC : 14\n",
      "DRUNKENNESS : 12\n",
      "EMBEZZLEMENT : 30\n",
      "EXTORTION : 34\n",
      "FAMILY OFFENSES : 27\n",
      "FORGERY/COUNTERFEITING : 13\n",
      "FRAUD : 19\n",
      "GAMBLING : 35\n",
      "KIDNAPPING : 20\n",
      "LARCENY/THEFT : 3\n",
      "LIQUOR LAWS : 28\n",
      "LOITERING : 32\n",
      "MISSING PERSON : 18\n",
      "NON-CRIMINAL : 6\n",
      "OTHER OFFENSES : 2\n",
      "PORNOGRAPHY/OBSCENE MAT : 39\n",
      "PROSTITUTION : 24\n",
      "RECOVERED VEHICLE : 38\n",
      "ROBBERY : 7\n",
      "RUNAWAY : 21\n",
      "SECONDARY CODES : 16\n",
      "SEX OFFENSES FORCIBLE : 23\n",
      "SEX OFFENSES NON FORCIBLE : 33\n",
      "STOLEN PROPERTY : 15\n",
      "SUICIDE : 31\n",
      "SUSPICIOUS OCC : 11\n",
      "TREA : 37\n",
      "TRESPASS : 17\n",
      "VANDALISM : 5\n",
      "VEHICLE THEFT : 4\n",
      "WARRANTS : 1\n",
      "WEAPON LAWS : 9\n"
     ]
    }
   ],
   "source": [
    "for key,value in data_dict_new.items():\n",
    "    print(key + \" : \" + str(value))"
   ]
  },
  {
   "cell_type": "code",
   "execution_count": 43,
   "metadata": {},
   "outputs": [],
   "source": [
    "from sklearn.linear_model import LogisticRegression\n",
    "b = LogisticRegression()"
   ]
  },
  {
   "cell_type": "code",
   "execution_count": 44,
   "metadata": {},
   "outputs": [
    {
     "data": {
      "text/html": [
       "<div>\n",
       "<style scoped>\n",
       "    .dataframe tbody tr th:only-of-type {\n",
       "        vertical-align: middle;\n",
       "    }\n",
       "\n",
       "    .dataframe tbody tr th {\n",
       "        vertical-align: top;\n",
       "    }\n",
       "\n",
       "    .dataframe thead th {\n",
       "        text-align: right;\n",
       "    }\n",
       "</style>\n",
       "<table border=\"1\" class=\"dataframe\">\n",
       "  <thead>\n",
       "    <tr style=\"text-align: right;\">\n",
       "      <th></th>\n",
       "      <th>DayOfWeek</th>\n",
       "      <th>PdDistrict</th>\n",
       "      <th>X</th>\n",
       "      <th>Y</th>\n",
       "    </tr>\n",
       "  </thead>\n",
       "  <tbody>\n",
       "    <tr>\n",
       "      <th>0</th>\n",
       "      <td>7</td>\n",
       "      <td>4</td>\n",
       "      <td>-122.399588</td>\n",
       "      <td>37.735051</td>\n",
       "    </tr>\n",
       "    <tr>\n",
       "      <th>1</th>\n",
       "      <td>7</td>\n",
       "      <td>4</td>\n",
       "      <td>-122.391523</td>\n",
       "      <td>37.732432</td>\n",
       "    </tr>\n",
       "    <tr>\n",
       "      <th>2</th>\n",
       "      <td>7</td>\n",
       "      <td>1</td>\n",
       "      <td>-122.426002</td>\n",
       "      <td>37.792212</td>\n",
       "    </tr>\n",
       "    <tr>\n",
       "      <th>3</th>\n",
       "      <td>7</td>\n",
       "      <td>3</td>\n",
       "      <td>-122.437394</td>\n",
       "      <td>37.721412</td>\n",
       "    </tr>\n",
       "    <tr>\n",
       "      <th>4</th>\n",
       "      <td>7</td>\n",
       "      <td>3</td>\n",
       "      <td>-122.437394</td>\n",
       "      <td>37.721412</td>\n",
       "    </tr>\n",
       "    <tr>\n",
       "      <th>...</th>\n",
       "      <td>...</td>\n",
       "      <td>...</td>\n",
       "      <td>...</td>\n",
       "      <td>...</td>\n",
       "    </tr>\n",
       "    <tr>\n",
       "      <th>884257</th>\n",
       "      <td>3</td>\n",
       "      <td>9</td>\n",
       "      <td>-122.408983</td>\n",
       "      <td>37.751987</td>\n",
       "    </tr>\n",
       "    <tr>\n",
       "      <th>884258</th>\n",
       "      <td>3</td>\n",
       "      <td>1</td>\n",
       "      <td>-122.425342</td>\n",
       "      <td>37.792681</td>\n",
       "    </tr>\n",
       "    <tr>\n",
       "      <th>884259</th>\n",
       "      <td>3</td>\n",
       "      <td>3</td>\n",
       "      <td>-122.445418</td>\n",
       "      <td>37.712075</td>\n",
       "    </tr>\n",
       "    <tr>\n",
       "      <th>884260</th>\n",
       "      <td>3</td>\n",
       "      <td>4</td>\n",
       "      <td>-122.387394</td>\n",
       "      <td>37.739479</td>\n",
       "    </tr>\n",
       "    <tr>\n",
       "      <th>884261</th>\n",
       "      <td>3</td>\n",
       "      <td>7</td>\n",
       "      <td>-122.489714</td>\n",
       "      <td>37.733950</td>\n",
       "    </tr>\n",
       "  </tbody>\n",
       "</table>\n",
       "<p>884262 rows × 4 columns</p>\n",
       "</div>"
      ],
      "text/plain": [
       "        DayOfWeek  PdDistrict           X          Y\n",
       "0               7           4 -122.399588  37.735051\n",
       "1               7           4 -122.391523  37.732432\n",
       "2               7           1 -122.426002  37.792212\n",
       "3               7           3 -122.437394  37.721412\n",
       "4               7           3 -122.437394  37.721412\n",
       "...           ...         ...         ...        ...\n",
       "884257          3           9 -122.408983  37.751987\n",
       "884258          3           1 -122.425342  37.792681\n",
       "884259          3           3 -122.445418  37.712075\n",
       "884260          3           4 -122.387394  37.739479\n",
       "884261          3           7 -122.489714  37.733950\n",
       "\n",
       "[884262 rows x 4 columns]"
      ]
     },
     "execution_count": 44,
     "metadata": {},
     "output_type": "execute_result"
    }
   ],
   "source": [
    "X_test"
   ]
  },
  {
   "cell_type": "code",
   "execution_count": 15,
   "metadata": {},
   "outputs": [],
   "source": [
    "result_dataframe = pd.DataFrame({\n",
    "    \"Id\": test_data[\"Id\"]\n",
    "})\n",
    "for key,value in data_dict_new.items():\n",
    "    result_dataframe[key] = 0\n",
    "count = 0\n",
    "for item in predictions:\n",
    "    for key,value in data_dict.items():\n",
    "        if(value == item):\n",
    "            result_dataframe[key][count] = 1\n",
    "    count+=1\n",
    "result_dataframe.to_csv(\"submission_knn.csv\", index=False)"
   ]
  },
  {
   "cell_type": "code",
   "execution_count": null,
   "metadata": {},
   "outputs": [],
   "source": [
    "from sklearn.linear_model import LogisticRegression\n",
    "lgr = LogisticRegression(max_iter=1000000)\n",
    "lgr.fit(X_train, y_train)\n",
    "predictions = knn.predict(X_test)\n",
    "\n",
    "#print(type(predictions))\n",
    "result_dataframe = pd.DataFrame({\n",
    "    \"Id\": test_data[\"Id\"]\n",
    "})\n",
    "for key,value in data_dict_new.items():\n",
    "    result_dataframe[key] = 0\n",
    "count = 0\n",
    "for item in predictions:\n",
    "    for key,value in data_dict.items():\n",
    "        if(value == item):\n",
    "            result_dataframe[key][count] = 1\n",
    "    count+=1\n",
    "result_dataframe.to_csv(\"submission_logistic.csv\", index=False)"
   ]
  },
  {
   "cell_type": "code",
   "execution_count": null,
   "metadata": {},
   "outputs": [],
   "source": [
    "from sklearn.linear_model import LogisticRegression\n",
    "log = LogisticRegression()\n",
    "log.fit(X_train, y_train)\n",
    "predictions = log.predict(X_test)\n",
    "\n",
    "for key,value in data_dict_new.items():\n",
    "    result_dataframe[key] = 0\n",
    "count = 0\n",
    "for item in predictions:\n",
    "    for key,value in data_dict.items():\n",
    "        if(value == item):\n",
    "            result_dataframe[key][count] = 1\n",
    "    count+=1\n",
    "result_dataframe.to_csv(\"submission_logistic.csv\", index=False) "
   ]
  },
  {
   "cell_type": "code",
   "execution_count": 30,
   "metadata": {},
   "outputs": [],
   "source": [
    "import sys"
   ]
  },
  {
   "cell_type": "code",
   "execution_count": 31,
   "metadata": {},
   "outputs": [
    {
     "data": {
      "text/plain": [
       "9223372036854775807"
      ]
     },
     "execution_count": 31,
     "metadata": {},
     "output_type": "execute_result"
    }
   ],
   "source": [
    "sys.maxsize"
   ]
  },
  {
   "cell_type": "markdown",
   "metadata": {},
   "source": []
  },
  {
   "cell_type": "code",
   "execution_count": 17,
   "metadata": {},
   "outputs": [
    {
     "name": "stdout",
     "output_type": "stream",
     "text": [
      "[0.0, 1.0, 2.0, 3.0, 4.0, 5.0, 6.0, 7.0, 8.0, 9.0]\n"
     ]
    }
   ],
   "source": [
    "float_features = [float(i) for i in range(10)]\n",
    "print(float_features)"
   ]
  },
  {
   "cell_type": "code",
   "execution_count": 18,
   "metadata": {},
   "outputs": [
    {
     "data": {
      "text/plain": [
       "[7]"
      ]
     },
     "execution_count": 18,
     "metadata": {},
     "output_type": "execute_result"
    }
   ],
   "source": [
    "features =[]\n",
    "days = {\"Monday\":1,\"Tuesday\":2,\"Wednesday\":3,\"Thursday\":4,\"Friday\":5,\"Saturday\":6,\"Sunday\":7}\n",
    "x = \"Sunday\"\n",
    "if x in days.keys():\n",
    "    features.append(days[x])\n",
    "features"
   ]
  },
  {
   "cell_type": "code",
   "execution_count": 20,
   "metadata": {},
   "outputs": [
    {
     "name": "stdout",
     "output_type": "stream",
     "text": [
      "[2, 2, -122.399588, 37.735051]\n"
     ]
    }
   ],
   "source": [
    "features =[]\n",
    "values = [\"Tuesday\",\"PARK\",-122.399588,37.735051]\n",
    "days = {\"Monday\":1,\"Tuesday\":2,\"Wednesday\":3,\"Thursday\":4,\"Friday\":5,\"Saturday\":6,\"Sunday\":7}\n",
    "district = {'NORTHERN': 1,'PARK': 2,'INGLESIDE': 3,'BAYVIEW': 4,'RICHMOND': 5,'CENTRAL': 6,'TARAVAL': 7,'TENDERLOIN':8,'MISSION': 9,'SOUTHERN': 10}\n",
    "for x in values:\n",
    "    if x in days.keys():\n",
    "        features.append(days[x])\n",
    "    elif x in district.keys():\n",
    "        features.append(district[x])\n",
    "    else:\n",
    "        features.append(x)\n",
    "\n",
    "print(features)"
   ]
  },
  {
   "cell_type": "code",
   "execution_count": 21,
   "metadata": {},
   "outputs": [],
   "source": [
    "crime = {1:\"stab\",2:\"shoot\",3:\"forgery\"}"
   ]
  },
  {
   "cell_type": "code",
   "execution_count": 24,
   "metadata": {},
   "outputs": [
    {
     "data": {
      "text/plain": [
       "'stab'"
      ]
     },
     "execution_count": 24,
     "metadata": {},
     "output_type": "execute_result"
    }
   ],
   "source": [
    "crime[1]"
   ]
  },
  {
   "cell_type": "code",
   "execution_count": 25,
   "metadata": {},
   "outputs": [],
   "source": [
    "op = {26:'ARSON', 8:'ASSAULT', 36:'BAD CHECKS', 29:'BRIBERY', 18:'BURGLARY', 25:'DISORDERLY CONDUCT', \n",
    "          22:'DRIVING UNDER THE INFLUENCE', 14:'DRUG/NARCOTIC', 12:'DRUNKENNESS', 30:'EMBEZZLEMENT', 34:'EXTORTION',\n",
    "          27:'FAMILY OFFENSES', 13:'FORGERY/COUNTERFEITING', 19:'FRAUD', 35:'GAMBLING', 20:'KIDNAPPING',\n",
    "          3: 'LARCENY/THEFT', 28:'LIQUOR LAWS', 32:'LOITERING', 18:'MISSING PERSON', 6:'NON-CRIMINAL',2:'OTHER OFFENSES',\n",
    "          39:'PORNOGRAPHY/OBSCENE MAT', 24:'PROSTITUTION', 38:'RECOVERED VEHICLE', 7:'ROBBERY', 21:'RUNAWAY', \n",
    "          16:'SECONDARY CODES', 23:'SEX OFFENSES FORCIBLE', 33:'SEX OFFENSES NON FORCIBLE', 15:'STOLEN PROPERTY', \n",
    "          31:'SUICIDE', 11:'SUSPICIOUS OCC', 37:'TREA', 17:'TRESPASS', 5:'VANDALISM', 4:'VEHICLE THEFT', 1:'WARRANTS', \n",
    "          9:'WEAPON LAWS'}"
   ]
  },
  {
   "cell_type": "code",
   "execution_count": 26,
   "metadata": {},
   "outputs": [
    {
     "data": {
      "text/plain": [
       "'DISORDERLY CONDUCT'"
      ]
     },
     "execution_count": 26,
     "metadata": {},
     "output_type": "execute_result"
    }
   ],
   "source": [
    "op[25]"
   ]
  },
  {
   "cell_type": "code",
   "execution_count": 46,
   "metadata": {},
   "outputs": [
    {
     "name": "stdout",
     "output_type": "stream",
     "text": [
      "[[7 4 3 2 4 5 3 6 7 4 2 3 5 6 8 4]]\n"
     ]
    }
   ],
   "source": [
    "example = np.array([7,4,3,2,4,5,3,6,7,4,2,3,5,6,8,4])\n",
    "example = example.reshape(1, -1)\n",
    "print(example)"
   ]
  },
  {
   "cell_type": "code",
   "execution_count": 47,
   "metadata": {},
   "outputs": [],
   "source": [
    "features = [\"DayOfWeek\", \"PdDistrict\",  \"X\", \"Y\"]\n",
    "X_train = train_data[features]\n",
    "y_train = train_data[\"Category\"]\n",
    "X_test = test_data[features]\n",
    "\n",
    "from sklearn.neighbors import KNeighborsClassifier\n",
    "import pickle\n",
    "knn = KNeighborsClassifier(n_neighbors=5)\n",
    "knn.fit(X_train, y_train)\n",
    "predictions = knn.predict_proba(X_test)\n"
   ]
  },
  {
   "cell_type": "raw",
   "metadata": {},
   "source": [
    "for i in range(100):\n",
    "    print(predictions[i])"
   ]
  },
  {
   "cell_type": "code",
   "execution_count": 66,
   "metadata": {},
   "outputs": [
    {
     "name": "stdout",
     "output_type": "stream",
     "text": [
      "<class 'pandas.core.frame.DataFrame'>\n"
     ]
    }
   ],
   "source": [
    "print(type(X_train))"
   ]
  },
  {
   "cell_type": "code",
   "execution_count": 78,
   "metadata": {},
   "outputs": [
    {
     "data": {
      "text/plain": [
       "(878049, 9)"
      ]
     },
     "execution_count": 78,
     "metadata": {},
     "output_type": "execute_result"
    }
   ],
   "source": [
    "train_data.shape"
   ]
  },
  {
   "cell_type": "code",
   "execution_count": null,
   "metadata": {},
   "outputs": [],
   "source": []
  }
 ],
 "metadata": {
  "kernelspec": {
   "display_name": "Python 3",
   "language": "python",
   "name": "python3"
  },
  "language_info": {
   "codemirror_mode": {
    "name": "ipython",
    "version": 3
   },
   "file_extension": ".py",
   "mimetype": "text/x-python",
   "name": "python",
   "nbconvert_exporter": "python",
   "pygments_lexer": "ipython3",
   "version": "3.8.8"
  }
 },
 "nbformat": 4,
 "nbformat_minor": 4
}
